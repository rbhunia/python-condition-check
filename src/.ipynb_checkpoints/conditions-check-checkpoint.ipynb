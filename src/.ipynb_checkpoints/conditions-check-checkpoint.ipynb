{
 "cells": [
  {
   "cell_type": "code",
   "execution_count": 20,
   "id": "10e7be1b100d1cf9",
   "metadata": {
    "ExecuteTime": {
     "end_time": "2024-11-01T16:04:25.694618Z",
     "start_time": "2024-11-01T16:04:16.961932Z"
    }
   },
   "outputs": [
    {
     "name": "stdout",
     "output_type": "stream",
     "text": [
      "Select operation:\n",
      "1. Add\n",
      "2. Subtract\n",
      "3. Multiply\n",
      "4. Divide\n",
      "1.0 + 1.0 = 2.0\n"
     ]
    }
   ],
   "source": [
    "# Python 3.12.3\n",
    "\n",
    "def add(x, y):\n",
    "    return x + y\n",
    "\n",
    "\n",
    "def subtract(x, y):\n",
    "    return x - y\n",
    "\n",
    "\n",
    "def multiply(x, y):\n",
    "    return x * y\n",
    "\n",
    "\n",
    "def divide(x, y):\n",
    "    if y == 0:\n",
    "        return \"Error! Division by zero.\"\n",
    "    return x / y\n",
    "\n",
    "\n",
    "def calculator():\n",
    "    print(\"Select operation:\")\n",
    "    print(\"1. Add\")\n",
    "    print(\"2. Subtract\")\n",
    "    print(\"3. Multiply\")\n",
    "    print(\"4. Divide\")\n",
    "\n",
    "    choice = input(\"Enter choice(1/2/3/4): \")\n",
    "\n",
    "    if choice not in ['1', '2', '3', '4']:\n",
    "        print(\"Invalid input\")\n",
    "        return\n",
    "\n",
    "    num1 = float(input(\"Enter first number: \"))\n",
    "    num2 = float(input(\"Enter second number: \"))\n",
    "\n",
    "    if choice == '1':\n",
    "        print(f\"{num1} + {num2} = {add(num1, num2)}\")\n",
    "    elif choice == '2':\n",
    "        print(f\"{num1} - {num2} = {subtract(num1, num2)}\")\n",
    "    elif choice == '3':\n",
    "        print(f\"{num1} * {num2} = {multiply(num1, num2)}\")\n",
    "    elif choice == '4':\n",
    "        print(f\"{num1} / {num2} = {divide(num1, num2)}\")\n",
    "\n",
    "\n",
    "if __name__ == \"__main__\":\n",
    "    calculator()"
   ]
  },
  {
   "cell_type": "code",
   "execution_count": 6,
   "id": "5f9f8fad302f8125",
   "metadata": {
    "ExecuteTime": {
     "end_time": "2024-11-01T16:04:25.714804Z",
     "start_time": "2024-11-01T16:04:25.707663Z"
    }
   },
   "outputs": [
    {
     "name": "stdin",
     "output_type": "stream",
     "text": [
      "Enter your age:  -12\n"
     ]
    },
    {
     "name": "stdout",
     "output_type": "stream",
     "text": [
      "Your ticket price is $Invalid age\n"
     ]
    }
   ],
   "source": [
    "# Constants\n",
    "AGE_CHILD = 12\n",
    "AGE_TEEN = 17\n",
    "AGE_ADULT = 64\n",
    "PRICE_CHILD = 10\n",
    "PRICE_TEEN = 15\n",
    "PRICE_ADULT = 20\n",
    "PRICE_SENIOR = 12\n",
    "\n",
    "\n",
    "def get_ticket_price(age):\n",
    "    if age < 0:\n",
    "        return \"Invalid age\"\n",
    "    if age <= AGE_CHILD:\n",
    "        return PRICE_CHILD\n",
    "    if age <= AGE_TEEN:\n",
    "        return PRICE_TEEN\n",
    "    if age <= AGE_ADULT:\n",
    "        return PRICE_ADULT\n",
    "    return PRICE_SENIOR\n",
    "\n",
    "def main():\n",
    "    try:\n",
    "        age = int(input(\"Enter your age: \"))\n",
    "        price = get_ticket_price(age)\n",
    "        print(f\"Your ticket price is ${price}\")\n",
    "    except ValueError:\n",
    "        print(\"Invalid age\")\n",
    "\n",
    "main()"
   ]
  },
  {
   "cell_type": "code",
   "execution_count": 22,
   "id": "b96e5e87955c9f36",
   "metadata": {
    "ExecuteTime": {
     "end_time": "2024-11-01T16:12:40.018573Z",
     "start_time": "2024-11-01T16:12:35.705555Z"
    }
   },
   "outputs": [
    {
     "name": "stdout",
     "output_type": "stream",
     "text": [
      "The number is even\n"
     ]
    }
   ],
   "source": [
    "def is_even(number):\n",
    "    return number % 2 == 0\n",
    "\n",
    "def is_odd(number):\n",
    "    return number % 2 != 0\n",
    "\n",
    "def check_number_parity(number):\n",
    "    if is_even(number):\n",
    "        return \"even\"\n",
    "    elif is_odd(number):\n",
    "        return \"odd\"\n",
    "\n",
    "user_input = int(input(\"Please enter a number: \"))\n",
    "parity = check_number_parity(user_input)\n",
    "print(f\"The number is {parity}\")"
   ]
  },
  {
   "cell_type": "code",
   "execution_count": 2,
   "id": "1ea48360-c336-4310-9622-4652377f19a2",
   "metadata": {},
   "outputs": [
    {
     "name": "stdin",
     "output_type": "stream",
     "text": [
      "Please enter your age -12\n"
     ]
    },
    {
     "name": "stdout",
     "output_type": "stream",
     "text": [
      "You are not eligible to vote\n"
     ]
    }
   ],
   "source": [
    "def is_eligible_to_vote(age):\n",
    "    if(age >= 18):\n",
    "        print(\"You are eligible to vote\")\n",
    "    else:\n",
    "        print(\"You are not eligible to vote\")\n",
    "\n",
    "age_input = int(input(\"Please enter your age\"))\n",
    "is_eligible_to_vote(age_input)"
   ]
  },
  {
   "cell_type": "code",
   "execution_count": 1,
   "id": "649188a4-58fc-43a0-9180-dca8c9091e8c",
   "metadata": {},
   "outputs": [
    {
     "name": "stdin",
     "output_type": "stream",
     "text": [
      "Please enter your age:  -12\n"
     ]
    },
    {
     "name": "stdout",
     "output_type": "stream",
     "text": [
      "Invalid age\n"
     ]
    }
   ],
   "source": [
    "def check_voting_eligibility(age):\n",
    "    VOTING_AGE_THRESHOLD = 18\n",
    "\n",
    "    def is_eligible(age):\n",
    "        return age >= VOTING_AGE_THRESHOLD\n",
    "\n",
    "    if(is_eligible(age)):\n",
    "        print(\"You are eligible to vote\")\n",
    "    else:\n",
    "        print(\"You are not eligible to vote\")\n",
    "\n",
    "try:\n",
    "    age_input = int(input(\"Please enter your age: \"))\n",
    "    if age_input <= 0:\n",
    "        raise ValueError(\"Invalid age\")\n",
    "    check_voting_eligibility(age_input)\n",
    "except ValueError as e:\n",
    "    print(e)"
   ]
  },
  {
   "cell_type": "code",
   "execution_count": null,
   "id": "e0ea3d81-94fe-42d2-aa3a-1f20d4f39596",
   "metadata": {},
   "outputs": [],
   "source": []
  }
 ],
 "metadata": {
  "kernelspec": {
   "display_name": "Python 3 (ipykernel)",
   "language": "python",
   "name": "python3"
  },
  "language_info": {
   "codemirror_mode": {
    "name": "ipython",
    "version": 3
   },
   "file_extension": ".py",
   "mimetype": "text/x-python",
   "name": "python",
   "nbconvert_exporter": "python",
   "pygments_lexer": "ipython3",
   "version": "3.12.3"
  }
 },
 "nbformat": 4,
 "nbformat_minor": 5
}
